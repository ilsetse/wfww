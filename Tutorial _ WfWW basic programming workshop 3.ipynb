{
 "cells": [
  {
   "cell_type": "markdown",
   "metadata": {},
   "source": [
    "# Tutorial by djangogirls\n",
    "Check out more of Python at [tutorial.djangogirls.org](https://tutorial.djangogirls.org/en/python_introduction/)"
   ]
  },
  {
   "cell_type": "markdown",
   "metadata": {},
   "source": [
    "# Comments\n",
    "Comments begin with #. You can write whatever you want after the # and Python will ignore it. Comments can make your code easier for other people to understand."
   ]
  },
  {
   "cell_type": "markdown",
   "metadata": {},
   "source": [
    "# Print a message"
   ]
  },
  {
   "cell_type": "code",
   "execution_count": 1,
   "metadata": {},
   "outputs": [
    {
     "name": "stdout",
     "output_type": "stream",
     "text": [
      "Hello World\n"
     ]
    }
   ],
   "source": [
    "print(\"Hello World\")\n",
    "\n",
    "print(\"Hello, \" + \"How are you?\")"
   ]
  },
  {
   "cell_type": "markdown",
   "metadata": {},
   "source": [
    "# Perform calculations"
   ]
  },
  {
   "cell_type": "code",
   "execution_count": 2,
   "metadata": {},
   "outputs": [
    {
     "name": "stdout",
     "output_type": "stream",
     "text": [
      "7\n"
     ]
    }
   ],
   "source": [
    "x = 5+2\n",
    "print(x)"
   ]
  },
  {
   "cell_type": "markdown",
   "metadata": {},
   "source": [
    "## You can also write the calculations into the same line as the print. \n",
    "\n",
    "Try a few more with +, <, >, %, *,  ==, and != . What do those operators do?\n",
    "\n",
    "- x > y means: x is greater than y\n",
    "- x < y means: x is less than y\n",
    "- x <= y means: x is less than or equal to y\n",
    "- x >= y means: x is greater than or equal to y"
   ]
  },
  {
   "cell_type": "code",
   "execution_count": 4,
   "metadata": {},
   "outputs": [
    {
     "name": "stdout",
     "output_type": "stream",
     "text": [
      "6\n",
      "True\n",
      "False\n",
      "1\n",
      "8\n",
      "True\n",
      "True\n",
      "Hello, How are you?\n"
     ]
    }
   ],
   "source": [
    "print(2 + 4)\n",
    "print(7 > 2)\n",
    "print(9 < 1)\n",
    "print(7 % 2)\n",
    "print(2 * 4)\n",
    "print(3 == 3)\n",
    "print(5 != 2)"
   ]
  },
  {
   "cell_type": "markdown",
   "metadata": {},
   "source": [
    "# Taking inputs"
   ]
  },
  {
   "cell_type": "code",
   "execution_count": 2,
   "metadata": {},
   "outputs": [
    {
     "name": "stdout",
     "output_type": "stream",
     "text": [
      "Enter anythinghello \n",
      "hello hello \n"
     ]
    }
   ],
   "source": [
    "usr_input = input('Enter anything')\n",
    "print(usr_input * 2)"
   ]
  },
  {
   "cell_type": "markdown",
   "metadata": {},
   "source": [
    "# Errors\n",
    "## Don't be afraid of errors! \n",
    "What's wrong with the code below?"
   ]
  },
  {
   "cell_type": "code",
   "execution_count": null,
   "metadata": {},
   "outputs": [],
   "source": [
    "print(\"Hello \" + 4) # How would you fix this?"
   ]
  },
  {
   "cell_type": "markdown",
   "metadata": {},
   "source": [
    "# Types"
   ]
  },
  {
   "cell_type": "code",
   "execution_count": 5,
   "metadata": {},
   "outputs": [
    {
     "name": "stdout",
     "output_type": "stream",
     "text": [
      "Hello 4\n"
     ]
    }
   ],
   "source": [
    "print(\"Hello \" + str(4))"
   ]
  },
  {
   "cell_type": "markdown",
   "metadata": {},
   "source": [
    "# If-Else Conditions"
   ]
  },
  {
   "cell_type": "code",
   "execution_count": 8,
   "metadata": {},
   "outputs": [
    {
     "name": "stdout",
     "output_type": "stream",
     "text": [
      "5 is a larger number than 3\n"
     ]
    }
   ],
   "source": [
    "# -------\n",
    "# Play around with the numbers!\n",
    "a=5\n",
    "b=3\n",
    "# -------\n",
    "\n",
    "if a>b:\n",
    "    print(str(a) + \" is a larger number than \" + str(b))\n",
    "else:\n",
    "    print(str(b) + \" is a larger number than \" + str(a))"
   ]
  },
  {
   "cell_type": "markdown",
   "metadata": {},
   "source": [
    "What if you have more than one if statement?  \n",
    "**Use elif, and don't forget the final else statement**"
   ]
  },
  {
   "cell_type": "code",
   "execution_count": 14,
   "metadata": {},
   "outputs": [
    {
     "name": "stdout",
     "output_type": "stream",
     "text": [
      "5 is a larger number than 3\n"
     ]
    }
   ],
   "source": [
    "# -------\n",
    "# Play around with the numbers!\n",
    "# How can you change these variables so that the else statement gets printed?\n",
    "a=5\n",
    "b=3\n",
    "# -------\n",
    "\n",
    "if a>b:\n",
    "    print(str(a) + \" is a larger number than \" + str(b))\n",
    "elif a<b:\n",
    "    print(str(a) + \" is a smaller number than \" + str(b))\n",
    "else:\n",
    "    print(str(a) + \" is equal to \" + str(b)) "
   ]
  },
  {
   "cell_type": "markdown",
   "metadata": {},
   "source": [
    "# Indentation\n",
    "Python is sensitive to indentations. You make an indentation with the 'tab' button on your keyboard.\n",
    "\n",
    "This is ok:"
   ]
  },
  {
   "cell_type": "code",
   "execution_count": 9,
   "metadata": {},
   "outputs": [
    {
     "name": "stdout",
     "output_type": "stream",
     "text": [
      "Yay!\n"
     ]
    }
   ],
   "source": [
    "if 2>1:\n",
    "    print('2 is bigger than 1')\n",
    "    print('Yay!')"
   ]
  },
  {
   "cell_type": "markdown",
   "metadata": {},
   "source": [
    "**This will lead to an error:**"
   ]
  },
  {
   "cell_type": "code",
   "execution_count": 11,
   "metadata": {
    "scrolled": true
   },
   "outputs": [
    {
     "ename": "IndentationError",
     "evalue": "unexpected indent (<ipython-input-11-f34ea251dde9>, line 3)",
     "output_type": "error",
     "traceback": [
      "\u001b[0;36m  File \u001b[0;32m\"<ipython-input-11-f34ea251dde9>\"\u001b[0;36m, line \u001b[0;32m3\u001b[0m\n\u001b[0;31m    print('Yay!')\u001b[0m\n\u001b[0m    ^\u001b[0m\n\u001b[0;31mIndentationError\u001b[0m\u001b[0;31m:\u001b[0m unexpected indent\n"
     ]
    }
   ],
   "source": [
    "if 2>1:\n",
    "    print('2 is bigger than 1')\n",
    "        print('Yay!') # This has an extra indentation"
   ]
  },
  {
   "cell_type": "markdown",
   "metadata": {},
   "source": [
    "# Lists\n",
    "Lists hold elements (numbers, strings, variables) where you can easily access them in order."
   ]
  },
  {
   "cell_type": "code",
   "execution_count": 16,
   "metadata": {},
   "outputs": [
    {
     "name": "stdout",
     "output_type": "stream",
     "text": [
      "['hi', 'i', 'am', 'a', 'list', 'of', 'words']\n",
      "[1, 2, 3, 4, 5]\n"
     ]
    }
   ],
   "source": [
    "this_is_a_list = ['hi','i','am','a','list','of','words']\n",
    "print(this_is_a_list)\n",
    "\n",
    "this_is_another_list = [1,2,3,4,5]\n",
    "print(this_is_another_list)"
   ]
  },
  {
   "cell_type": "markdown",
   "metadata": {},
   "source": [
    "# Functions\n",
    "Functions are commands you can use to do something.  \n",
    "print is a function to print something\n",
    "len is a function to find the length of a list"
   ]
  },
  {
   "cell_type": "code",
   "execution_count": 21,
   "metadata": {},
   "outputs": [
    {
     "name": "stdout",
     "output_type": "stream",
     "text": [
      "7\n"
     ]
    }
   ],
   "source": [
    "this_is_a_list = ['hi','i','am','a','list','of','words']\n",
    "print(len(this_is_a_list)) # There are 7 elements (words) in that list"
   ]
  },
  {
   "cell_type": "markdown",
   "metadata": {},
   "source": [
    "# Getting elements in a list\n",
    "You can get the elements from the list using brackets \\[] and the index (location number) of the element\n",
    "\n",
    "# Zero Index\n",
    "Python uses zero-based numbering. So all counting (and indexing) starts as 0,1,2..."
   ]
  },
  {
   "cell_type": "code",
   "execution_count": 19,
   "metadata": {},
   "outputs": [
    {
     "name": "stdout",
     "output_type": "stream",
     "text": [
      "1\n",
      "3\n"
     ]
    }
   ],
   "source": [
    "a = [1,2,3,4,5]\n",
    "\n",
    "# print the FIRST element of the list\n",
    "print(a[0])\n",
    "print(a[2])"
   ]
  },
  {
   "cell_type": "markdown",
   "metadata": {},
   "source": [
    "# For Loops\n",
    "What if you want to repeat some operation? You don't have to copy and paste the code over and over again -- use loops!"
   ]
  },
  {
   "cell_type": "code",
   "execution_count": 22,
   "metadata": {},
   "outputs": [
    {
     "name": "stdout",
     "output_type": "stream",
     "text": [
      "0\n",
      "1\n",
      "2\n",
      "3\n"
     ]
    }
   ],
   "source": [
    "lower_bound = 0\n",
    "upper_bound = 4\n",
    "for idx in range(lower_bound,upper_bound):\n",
    "    print(idx)"
   ]
  },
  {
   "cell_type": "code",
   "execution_count": null,
   "metadata": {},
   "outputs": [],
   "source": []
  }
 ],
 "metadata": {
  "kernelspec": {
   "display_name": "Python 3",
   "language": "python",
   "name": "python3"
  },
  "language_info": {
   "codemirror_mode": {
    "name": "ipython",
    "version": 3
   },
   "file_extension": ".py",
   "mimetype": "text/x-python",
   "name": "python",
   "nbconvert_exporter": "python",
   "pygments_lexer": "ipython3",
   "version": "3.6.6"
  }
 },
 "nbformat": 4,
 "nbformat_minor": 2
}
